{
 "cells": [
  {
   "cell_type": "code",
   "execution_count": 1,
   "metadata": {},
   "outputs": [],
   "source": [
    "%matplotlib inline\n",
    "import cv2\n",
    "import matplotlib\n",
    "import numpy as np\n",
    "from matplotlib import pyplot as plt\n",
    "\n",
    "plt.style.use(\"ggplot\")"
   ]
  },
  {
   "cell_type": "code",
   "execution_count": 2,
   "metadata": {},
   "outputs": [],
   "source": [
    "import FileIO as fio\n",
    "import Camera as camsolve"
   ]
  },
  {
   "cell_type": "code",
   "execution_count": 3,
   "metadata": {},
   "outputs": [],
   "source": [
    "root_dir = \"/home/liyanc/Desktop/raid/scratch2/pose/processing/staging\"\n",
    "ref_intrinsic = \"meta_mid/cameras/subj_take/haoyu_motion_01_camparams.pkl\"\n",
    "ref_dlsr = fio.load_pkl(\"{:}/{:}\".format(root_dir,ref_intrinsic))"
   ]
  },
  {
   "cell_type": "code",
   "execution_count": 4,
   "metadata": {},
   "outputs": [],
   "source": [
    "ref_e, ref_dist = ref_dlsr[\"03\"][:2]"
   ]
  },
  {
   "cell_type": "code",
   "execution_count": 5,
   "metadata": {},
   "outputs": [],
   "source": [
    "candidates = [\n",
    "    (\"zhe\", \"action_02\"), (\"zhe\", \"motion_00\"), (\"zhe\", \"motion_01\"), (\"lin\", \"zw_static_01\")]"
   ]
  },
  {
   "cell_type": "code",
   "execution_count": 6,
   "metadata": {},
   "outputs": [
    {
     "name": "stdout",
     "output_type": "stream",
     "text": [
      "zhe action_02 04 inliers:  0.4897959183673469\n",
      "zhe motion_00 03 inliers:  0.25\n",
      "zhe motion_01 03 inliers:  0.2857142857142857\n",
      "lin zw_static_01 04 inliers:  0.4583333333333333\n"
     ]
    }
   ],
   "source": [
    "for sub, takename in candidates:\n",
    "    corr_f = \"{:}/meta_mid/cameras/subj_take/{:}_{:}_camproj.pkl\".format(root_dir, sub, takename)\n",
    "    save_f = \"{:}/meta_mid/cameras/solvepnp_params/{:}_{:}_camparams.pkl\".format(root_dir, sub, takename)\n",
    "    try:\n",
    "        corr = fio.load_pkl(corr_f)\n",
    "    except:\n",
    "        print(\"Failed to read file: \", sub, takename)\n",
    "    else:\n",
    "        new_param = {}\n",
    "\n",
    "        for cam, corr_pairs in corr.items():\n",
    "            pts, imgpts = corr_pairs\n",
    "            _, rot, t, inliers = cv2.solvePnPRansac(pts, imgpts, ref_e, ref_dist, reprojectionError=0.8)\n",
    "            new_param[cam] = ref_dlsr[\"03\"][:2] + (rot, t, ref_dlsr[\"03\"][4])\n",
    "            print(sub, takename, cam, \"inliers: \", len(inliers) / pts.shape[0])\n",
    "            fio.dump_pkl(new_param, save_f)"
   ]
  },
  {
   "cell_type": "code",
   "execution_count": null,
   "metadata": {},
   "outputs": [],
   "source": []
  }
 ],
 "metadata": {
  "kernelspec": {
   "display_name": "Python 3",
   "language": "python",
   "name": "python3"
  },
  "language_info": {
   "codemirror_mode": {
    "name": "ipython",
    "version": 3
   },
   "file_extension": ".py",
   "mimetype": "text/x-python",
   "name": "python",
   "nbconvert_exporter": "python",
   "pygments_lexer": "ipython3",
   "version": "3.5.2"
  }
 },
 "nbformat": 4,
 "nbformat_minor": 2
}
