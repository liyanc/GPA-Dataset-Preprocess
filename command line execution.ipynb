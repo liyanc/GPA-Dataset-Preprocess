{
 "cells": [
  {
   "cell_type": "code",
   "execution_count": 27,
   "metadata": {},
   "outputs": [],
   "source": [
    "import os\n",
    "import sys\n",
    "import subprocess as sp\n",
    "import multiprocessing as mp\n",
    "from time import sleep\n",
    "from random import shuffle"
   ]
  },
  {
   "cell_type": "code",
   "execution_count": 2,
   "metadata": {},
   "outputs": [
    {
     "data": {
      "text/plain": [
       "12"
      ]
     },
     "execution_count": 2,
     "metadata": {},
     "output_type": "execute_result"
    }
   ],
   "source": [
    "mp.cpu_count()"
   ]
  },
  {
   "cell_type": "code",
   "execution_count": 25,
   "metadata": {},
   "outputs": [],
   "source": [
    "cmds = [[\"sleep\", \"20.{:}s\".format(x)] for x in range(50)]"
   ]
  },
  {
   "cell_type": "code",
   "execution_count": 18,
   "metadata": {},
   "outputs": [],
   "source": [
    "p_obj = [sp.Popen(cmd, stdout=sp.PIPE) for cmd in cmds]"
   ]
  },
  {
   "cell_type": "code",
   "execution_count": 20,
   "metadata": {},
   "outputs": [
    {
     "data": {
      "text/plain": [
       "['sleep', '20s']"
      ]
     },
     "execution_count": 20,
     "metadata": {},
     "output_type": "execute_result"
    }
   ],
   "source": [
    "p_obj[0].args"
   ]
  },
  {
   "cell_type": "code",
   "execution_count": 34,
   "metadata": {},
   "outputs": [],
   "source": [
    "cmds = [[\"echo\", \"10.{:}s\".format(x)] for x in range(50)]\n",
    "shuffle(cmds)\n",
    "proc_list = []\n",
    "comp_list = []\n",
    "\n",
    "num_task = len(cmds)\n",
    "while len(comp_list) < num_task:\n",
    "    while len(proc_list) < mp.cpu_count() and len(cmds) > 0:\n",
    "        cmd = cmds.pop(0)\n",
    "        proc_list.append(sp.Popen(cmd, stdout=sp.PIPE))\n",
    "        \n",
    "    for ind in range(len(proc_list)):\n",
    "        if proc_list[ind].poll() is not None:\n",
    "            proc = proc_list.pop(ind)\n",
    "            comp_list.append(proc)\n",
    "            break\n",
    "        else:\n",
    "            sleep(0.05)\n"
   ]
  },
  {
   "cell_type": "code",
   "execution_count": 1,
   "metadata": {},
   "outputs": [],
   "source": [
    "import glob"
   ]
  },
  {
   "cell_type": "code",
   "execution_count": 2,
   "metadata": {},
   "outputs": [],
   "source": [
    "src_dir = \"/mnt/10T/pose/20180831/\""
   ]
  },
  {
   "cell_type": "code",
   "execution_count": 5,
   "metadata": {},
   "outputs": [
    {
     "data": {
      "text/plain": [
       "['/mnt/10T/pose/20180831/camera3/liyan_zw_static_03.MP4',\n",
       " '/mnt/10T/pose/20180831/camera3/liyan_action_00.MP4',\n",
       " '/mnt/10T/pose/20180831/camera3/liyan_motion_01.MP4',\n",
       " '/mnt/10T/pose/20180831/camera3/liyan_action_01.MP4',\n",
       " '/mnt/10T/pose/20180831/camera3/liyan_motion_00.MP4',\n",
       " '/mnt/10T/pose/20180831/camera3/liyan_zw_dynamic_00.MP4',\n",
       " '/mnt/10T/pose/20180831/camera3/liyan_zw_static_02.MP4',\n",
       " '/mnt/10T/pose/20180831/camera3/static_geometry.MP4',\n",
       " '/mnt/10T/pose/20180831/camera3/liyan_action_02.MP4',\n",
       " '/mnt/10T/pose/20180831/camera3/liyan_zw_static_00.MP4',\n",
       " '/mnt/10T/pose/20180831/camera3/liyan_zw_dynamic_01.MP4',\n",
       " '/mnt/10T/pose/20180831/camera4/liyan_zw_static_03.MP4',\n",
       " '/mnt/10T/pose/20180831/camera4/liyan_action_00.MP4',\n",
       " '/mnt/10T/pose/20180831/camera4/liyan_motion_01.MP4',\n",
       " '/mnt/10T/pose/20180831/camera4/liyan_action_01.MP4',\n",
       " '/mnt/10T/pose/20180831/camera4/liyan_motion_00.MP4',\n",
       " '/mnt/10T/pose/20180831/camera4/liyan_zw_dynamic_00.MP4',\n",
       " '/mnt/10T/pose/20180831/camera4/liyan_zw_static_02.MP4',\n",
       " '/mnt/10T/pose/20180831/camera4/static_geometry.MP4',\n",
       " '/mnt/10T/pose/20180831/camera4/liyan_action_02.MP4',\n",
       " '/mnt/10T/pose/20180831/camera4/liyan_zw_dynamic_01.MP4']"
      ]
     },
     "execution_count": 5,
     "metadata": {},
     "output_type": "execute_result"
    }
   ],
   "source": [
    "glob.glob(\"{:}/{:}\".format(src_dir, \"camera*/*.MP4\"))"
   ]
  },
  {
   "cell_type": "code",
   "execution_count": 4,
   "metadata": {},
   "outputs": [
    {
     "data": {
      "text/plain": [
       "['/mnt/10T/pose/20180831/scene_geometry.tar.gz',\n",
       " '/mnt/10T/pose/20180831/liyan_zw_dynamic.tar.gz',\n",
       " '/mnt/10T/pose/20180831/liyan_motion.tar.gz',\n",
       " '/mnt/10T/pose/20180831/liyan_zw_static.tar.gz',\n",
       " '/mnt/10T/pose/20180831/liyan_action.tar.gz']"
      ]
     },
     "execution_count": 4,
     "metadata": {},
     "output_type": "execute_result"
    }
   ],
   "source": [
    "glob.glob(\"{:}/{:}\".format(src_dir, \"*.tar.gz\"))"
   ]
  },
  {
   "cell_type": "code",
   "execution_count": null,
   "metadata": {},
   "outputs": [],
   "source": []
  }
 ],
 "metadata": {
  "kernelspec": {
   "display_name": "Python 3",
   "language": "python",
   "name": "python3"
  },
  "language_info": {
   "codemirror_mode": {
    "name": "ipython",
    "version": 3
   },
   "file_extension": ".py",
   "mimetype": "text/x-python",
   "name": "python",
   "nbconvert_exporter": "python",
   "pygments_lexer": "ipython3",
   "version": "3.5.2"
  }
 },
 "nbformat": 4,
 "nbformat_minor": 2
}
