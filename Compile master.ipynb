{
 "cells": [
  {
   "cell_type": "code",
   "execution_count": 1,
   "metadata": {},
   "outputs": [],
   "source": [
    "%matplotlib inline\n",
    "import os, pickle, glob\n",
    "import cv2\n",
    "import re\n",
    "import matplotlib\n",
    "import numpy as np\n",
    "import FileIO as fio\n",
    "import Camera as camsolve\n",
    "from matplotlib import pyplot as plt\n",
    "from collections import defaultdict\n",
    "plt.style.use(\"ggplot\")"
   ]
  },
  {
   "cell_type": "code",
   "execution_count": 2,
   "metadata": {},
   "outputs": [],
   "source": [
    "rt_path = \"/home/liyanc/Desktop/raid/scratch2/pose/processing/staging\"\n",
    "bvh_dir = \"resolve_bvh2mat\"\n",
    "marker_dir = \"meta_mid\"\n",
    "camparam_dir = \"meta_mid/cameras/subj_take/\"\n",
    "timecorr_dir = \"meta_mid/alignments\"\n",
    "day_list = [\"20180831\", \"20180901\", \"20180902\", \"20180903\", \"20180906\",\n",
    "           \"20180907\", \"20180911\"]"
   ]
  },
  {
   "cell_type": "code",
   "execution_count": 3,
   "metadata": {},
   "outputs": [],
   "source": [
    "subj2camparam = {\n",
    "    \"liyan\": \"20180831_liyan_camparams.pkl\", \"lisi\": \"20180901_lisi_camparams.pkl\",\n",
    "    \"deying\": \"20180901_lisi_camparams.pkl\", \"haoyu\": \"20180902_haoyu_camparams.pkl\",\n",
    "    \"shau\": \"20180902_haoyu_camparams.pkl\", \"jingwen\": \"20180903_jingwen_camparams.pkl\",\n",
    "    \"zhe\": \"20180903_jingwen_camparams.pkl\", \"xie\": \"20180906_yan_camparams.pkl\",\n",
    "    \"yan\": \"20180906_yan_camparams.pkl\", \"dy\": \"20180907_dy_camparams.pkl\",\n",
    "    \"tang\": \"20180907_dy_camparams.pkl\", \"ryan\": \"20180911_ryan_camparams.pkl\"}\n",
    "subj2day = {\n",
    "    \"liyan\": \"20180831\", \"lisi\": \"20180901\", \"deying\": \"20180901\", \"haoyu\": \"20180902\",\n",
    "    \"shau\": \"20180902\", \"jingwen\": \"20180903\", \"zhe\": \"20180903\", \"xie\": \"20180906\",\n",
    "    \"yan\": \"20180906\", \"dy\": \"20180907\", \"tang\": \"20180907\", \"ryan\": \"20180911\"}"
   ]
  },
  {
   "cell_type": "code",
   "execution_count": 4,
   "metadata": {},
   "outputs": [],
   "source": [
    "def spath(subdir):\n",
    "    return \"{:}/{:}\".format(rt_path, subdir)"
   ]
  },
  {
   "cell_type": "code",
   "execution_count": 5,
   "metadata": {},
   "outputs": [],
   "source": [
    "def augpath(base_dir):\n",
    "    def _augpath(subdir):\n",
    "        return \"{:}/{:}\".format(base_dir, subdir)\n",
    "    return _augpath"
   ]
  },
  {
   "cell_type": "markdown",
   "metadata": {},
   "source": [
    "# Write Camera Parameters"
   ]
  },
  {
   "cell_type": "code",
   "execution_count": 20,
   "metadata": {},
   "outputs": [],
   "source": [
    "def orig_cam_param(subj):\n",
    "    return \"{:}/meta_mid/cameras/{:}\".format(rt_path, subj2camparam[subj])"
   ]
  },
  {
   "cell_type": "code",
   "execution_count": 22,
   "metadata": {},
   "outputs": [],
   "source": [
    "dir_path = \"{:}/{:}\".format(rt_path, camparam_dir)\n",
    "subj_take_table = defaultdict(dict)\n",
    "ptn = re.compile(\"(action_\\d{2})|(motion_\\d{2})|(zw_static_\\d{2})\")\n",
    "for f in glob.glob(\"{:}/*_camparams.pkl\".format(dir_path)):\n",
    "    fname = os.path.basename(f)\n",
    "    sub = fname.split(\"_\")[0]\n",
    "    take = ptn.search(fname).group(0)\n",
    "    subj_take_table[sub][take] = f"
   ]
  },
  {
   "cell_type": "code",
   "execution_count": 12,
   "metadata": {},
   "outputs": [],
   "source": [
    "camparams = fio.load_pkl(subj_take_table[\"liyan\"][\"action_00\"])"
   ]
  },
  {
   "cell_type": "code",
   "execution_count": 28,
   "metadata": {},
   "outputs": [
    {
     "name": "stdout",
     "output_type": "stream",
     "text": [
      "/home/liyanc/Desktop/raid/scratch2/pose/processing/staging/meta_mid/cameras/subj_take/liyan_action_02_camparams.pkl\n"
     ]
    }
   ],
   "source": [
    "for subj, record in subj_take_table.items():\n",
    "    for take, file in record.items():\n",
    "        base_param = fio.load_pkl(orig_cam_param(subj))\n",
    "        if (subj, take) == (\"liyan\", \"action_02\"):\n",
    "            print(file)\n",
    "            base_param[\"04\"] = camparam_e\n",
    "        fio.dump_pkl(base_param, file)"
   ]
  },
  {
   "cell_type": "markdown",
   "metadata": {},
   "source": [
    "# Gather Master Version Info"
   ]
  },
  {
   "cell_type": "code",
   "execution_count": null,
   "metadata": {},
   "outputs": [],
   "source": [
    "cam_dict = fio.load_cam(apath.camparam_file)\n",
    "imgdir_io = fio.ImgDirIO(apath.day_subdir, subj, takename)\n",
    "viddir_io = fio.VideoDirIO(apath.day_subdir, subj, takename)\n",
    "marker_io = fio.MarkerDirIO(apath.marker_dir)\n",
    "joint_io = fio.BVHDirIO(apath.bvh_dir)\n",
    "img_reader = fio.ImgProjReader(cam_dict, imgdir_io, viddir_io)\n",
    "mkr_reader = fio.MarkerSkeletonProjReader(cam_dict, marker_io, joint_io, subj, takename)"
   ]
  },
  {
   "cell_type": "code",
   "execution_count": null,
   "metadata": {},
   "outputs": [],
   "source": [
    "timeparam_dict = defaultdict(dict)\n",
    "for subj, record in time_io.subj_take_table.items():\n",
    "    for take, f in record.items():\n",
    "        corr = fio.load_pkl(f)\n",
    "        for cam, corr_pairs in corr.items():\n",
    "            if (subj, take, cam) not in fio.CamParamDir.block_list:\n",
    "                print(subj, take, cam, camsolve.ransac_linear_regress(corr_pairs))"
   ]
  },
  {
   "cell_type": "markdown",
   "metadata": {},
   "source": [
    "# For a single subject"
   ]
  },
  {
   "cell_type": "code",
   "execution_count": 5,
   "metadata": {},
   "outputs": [],
   "source": [
    "cam_io = fio.CamParamDir(\"{:}/{:}\".format(rt_path, camparam_dir))\n",
    "time_io = fio.TimeParamDir(\"{:}/{:}\".format(rt_path, timecorr_dir))\n",
    "\n",
    "subj, takename = \"haoyu\", \"motion_01\"\n",
    "cam_dict = fio.load_cam(cam_io.get_camparam_file(subj, takename))\n",
    "imgdir_io = fio.ImgDirIO(spath(subj2day[subj]), subj, takename)\n",
    "viddir_io = fio.VideoDirIO(spath(subj2day[subj]), subj, takename)\n",
    "marker_io = fio.MarkerDirIO(spath(marker_dir))\n",
    "joint_io = fio.BVHDirIO(spath(bvh_dir))\n",
    "img_reader = fio.ImgProjReader(cam_dict, imgdir_io, viddir_io)\n",
    "mkr_reader = fio.MarkerSkeletonProjReader(cam_dict, marker_io, joint_io, subj, takename)"
   ]
  },
  {
   "cell_type": "code",
   "execution_count": 10,
   "metadata": {},
   "outputs": [],
   "source": [
    "cam = \"04\"\n",
    "ts = viddir_io.read_cam_ts(cam)\n",
    "joint_list = []\n",
    "for t in ts:\n",
    "    mocap_t = int(round(time_io.map_cam_timestamp_2mocap(subj, takename, cam, t)))\n",
    "    if mocap_t < mkr_reader.get_joint_frame_num():\n",
    "        joint_list.append(mkr_reader.read_raw_joint(mocap_t))"
   ]
  },
  {
   "cell_type": "code",
   "execution_count": 12,
   "metadata": {},
   "outputs": [],
   "source": [
    "cam = \"00\"\n",
    "frame_ts = imgdir_io.get_imgfile_timestamp(cam)\n",
    "joint_list = []\n",
    "for _, t in frame_ts:\n",
    "    mocap_t = int(round(time_io.map_cam_timestamp_2mocap(subj, takename, cam, t)))\n",
    "    if mocap_t >= mkr_reader.get_joint_frame_num():\n",
    "        break\n",
    "    joint_list.append(mkr_reader.read_raw_joint(mocap_t))"
   ]
  },
  {
   "cell_type": "markdown",
   "metadata": {},
   "source": [
    "# For all subjects"
   ]
  },
  {
   "cell_type": "code",
   "execution_count": 5,
   "metadata": {},
   "outputs": [],
   "source": [
    "cam_io = fio.CamParamDir(\"{:}/{:}\".format(rt_path, camparam_dir))\n",
    "time_io = fio.TimeParamDir(\"{:}/{:}\".format(rt_path, timecorr_dir))"
   ]
  },
  {
   "cell_type": "code",
   "execution_count": null,
   "metadata": {},
   "outputs": [],
   "source": [
    "dis_list = []\n",
    "\n",
    "for subj, record in time_io.subj_take_table.items():\n",
    "    for takename, _ in record.items():    \n",
    "        print(subj, takename)\n",
    "        cam_dict = fio.load_cam(cam_io.get_camparam_file(subj, takename))\n",
    "        imgdir_io = fio.ImgDirIO(spath(subj2day[subj]), subj, takename)\n",
    "        viddir_io = fio.VideoDirIO(spath(subj2day[subj]), subj, takename)\n",
    "        marker_io = fio.MarkerDirIO(spath(marker_dir))\n",
    "        joint_io = fio.BVHDirIO(spath(bvh_dir))\n",
    "        mkr_reader = fio.MarkerSkeletonProjReader(cam_dict, marker_io, joint_io, subj, takename)\n",
    "        \n",
    "        for cam in [\"00\", \"01\", \"02\", \"03\", \"04\"]:\n",
    "            if not cam_io.is_blocklisted(subj, takename, cam):\n",
    "                joint_list = []\n",
    "                \n",
    "                if cam in [\"03\", \"04\"]:\n",
    "                    ts = viddir_io.read_cam_ts(cam)\n",
    "                    for t in ts:\n",
    "                        mocap_t = int(round(time_io.map_cam_timestamp_2mocap(subj, takename, cam, t)))\n",
    "                        if mocap_t < mkr_reader.get_joint_frame_num():\n",
    "                            joint_list.append(mkr_reader.read_raw_joint(mocap_t))\n",
    "                else:\n",
    "                    frame_ts = imgdir_io.get_imgfile_timestamp(cam)\n",
    "                    for _, t in frame_ts:\n",
    "                        mocap_t = int(round(time_io.map_cam_timestamp_2mocap(subj, takename, cam, t)))\n",
    "                        if mocap_t >= mkr_reader.get_joint_frame_num():\n",
    "                            break\n",
    "                        joint_list.append(mkr_reader.read_raw_joint(mocap_t))\n",
    "                \n",
    "                cur = np.array(joint_list)\n",
    "                dis_per_joint = np.sqrt(np.sum((cur[:-1, :, :] - cur[1:, :, :]) ** 2, axis=2))\n",
    "                mask = ~np.any(np.isnan(dis_per_joint), axis=1)\n",
    "                dis_list.append(np.percentile(dis_per_joint[mask], 75, axis=1))"
   ]
  },
  {
   "cell_type": "code",
   "execution_count": 10,
   "metadata": {},
   "outputs": [
    {
     "data": {
      "image/png": "[encoded data removed]",
      "text/plain": [
       "<Figure size 1152x864 with 1 Axes>"
      ]
     },
     "metadata": {},
     "output_type": "display_data"
    }
   ],
   "source": [
    "fig = plt.figure(figsize=(16, 12))\n",
    "_ = plt.hist(np.concatenate(dis_list), bins=400, alpha=0.7)\n",
    "_ = plt.title(\"Histogram of adjacent skeleton displacement\")"
   ]
  },
  {
   "cell_type": "code",
   "execution_count": 8,
   "metadata": {},
   "outputs": [
    {
     "name": "stdout",
     "output_type": "stream",
     "text": [
      "The Threshold for keeping 45% frames are 2.0819192217640703\n"
     ]
    }
   ],
   "source": [
    "keep_percentage = 45\n",
    "print(\"The Threshold for keeping {:}% frames are {:}\".format(keep_percentage, np.percentile(np.concatenate(dis_list), 100 - keep_percentage)))"
   ]
  },
  {
   "cell_type": "markdown",
   "metadata": {},
   "source": [
    "# Generate Master version"
   ]
  },
  {
   "cell_type": "markdown",
   "metadata": {},
   "source": [
    "## Meta Data fields\n",
    " - ImgID (unique across whole dataset)\n",
    " - Source file path\n",
    " - Destination file path\n",
    " - Session date\n",
    " - Subject name\n",
    " - Takename\n",
    " - Camera ID\n",
    " - Camera+Time parameter file\n",
    " - Source camera timestamp (in millisecond)\n",
    " - Aligned mocap timestamp (in 120fps)\n",
    " - Geometry name\n",
    " - 53 markers\n",
    " - 34 Joints\n",
    " - Is in GPA1.0 (adaptive sampling)\n",
    " - Is in test set\n",
    " - Camera+Time parameter file"
   ]
  },
  {
   "cell_type": "code",
   "execution_count": 6,
   "metadata": {},
   "outputs": [],
   "source": [
    "adaptive_threshold = 2.0819192217640703"
   ]
  },
  {
   "cell_type": "code",
   "execution_count": 7,
   "metadata": {},
   "outputs": [],
   "source": [
    "import Execution as exe\n",
    "import h5py"
   ]
  },
  {
   "cell_type": "code",
   "execution_count": 6,
   "metadata": {},
   "outputs": [],
   "source": [
    "dst_rt = \"/mnt/10T/GPA_master\"\n",
    "src_rt = \"/home/liyanc/Desktop/raid/scratch2/pose/processing/staging\"\n",
    "src_path = augpath(src_rt)\n",
    "dst_path = augpath(dst_rt)"
   ]
  },
  {
   "cell_type": "code",
   "execution_count": 9,
   "metadata": {},
   "outputs": [],
   "source": [
    "dst_cam_dir = \"spacetime_camera\""
   ]
  },
  {
   "cell_type": "code",
   "execution_count": 10,
   "metadata": {},
   "outputs": [],
   "source": [
    "for subj in subj2day:\n",
    "    exe.run_command([\"mkdir\", dst_path(subj)])"
   ]
  },
  {
   "cell_type": "code",
   "execution_count": 7,
   "metadata": {},
   "outputs": [],
   "source": [
    "cam_io = fio.CamParamDir(src_path(camparam_dir))\n",
    "time_io= fio.TimeParamDir(src_path(timecorr_dir))"
   ]
  },
  {
   "cell_type": "code",
   "execution_count": 11,
   "metadata": {},
   "outputs": [],
   "source": [
    "exe.run_command([\"mkdir\", dst_path(dst_cam_dir)])"
   ]
  },
  {
   "cell_type": "code",
   "execution_count": null,
   "metadata": {},
   "outputs": [],
   "source": [
    "for subj, record in time_io.subj_take_table.items():\n",
    "    for takename, _ in record.items(): \n",
    "        cam_param = fio.load_pkl(cam_io.get_camparam_file(subj, takename))\n",
    "        for cam in [\"00\", \"01\", \"02\", \"03\", \"04\"]:\n",
    "            if not cam_io.is_blocklisted(subj, takename, cam):\n",
    "                params = {\"spatial\": cam_param[cam],\n",
    "                          \"temporal\": time_io.get_timeparam(subj, takename)[cam]}\n",
    "                print(subj, takename, params)\n",
    "                filename = \"{:}/{:}-{:}-{:}-stcams.pkl\".format(\n",
    "                    dst_cam_dir, subj, takename, cam)\n",
    "                fio.dump_pkl(params, dst_path(filename))"
   ]
  },
  {
   "cell_type": "code",
   "execution_count": 8,
   "metadata": {},
   "outputs": [],
   "source": [
    "def is_adaptive_sampled(prev, cur):\n",
    "    dis_per_joint = np.sqrt(np.sum((cur - prev) ** 2, axis=1))\n",
    "    return np.percentile(dis_per_joint, 75) >= adaptive_threshold"
   ]
  },
  {
   "cell_type": "markdown",
   "metadata": {},
   "source": [
    "# For a single subject"
   ]
  },
  {
   "cell_type": "code",
   "execution_count": 25,
   "metadata": {},
   "outputs": [],
   "source": [
    "#subj, takename = \"haoyu\", \"motion_00\""
   ]
  },
  {
   "cell_type": "code",
   "execution_count": 12,
   "metadata": {},
   "outputs": [],
   "source": [
    "subjtake_cam = {}\n",
    "\n",
    "for subj, record in time_io.subj_take_table.items():\n",
    "    for takename, _ in record.items():\n",
    "        cam_dict = fio.load_cam(cam_io.get_camparam_file(subj, takename))\n",
    "        subjtake_cam[(subj, takename)] = cam_dict"
   ]
  },
  {
   "cell_type": "code",
   "execution_count": 27,
   "metadata": {},
   "outputs": [],
   "source": [
    "cam_dict = fio.load_cam(cam_io.get_camparam_file(subj, takename))\n",
    "imgdir_io = fio.ImgDirIO(src_path(subj2day[subj]), subj, takename)\n",
    "viddir_io = fio.VideoDirIO(src_path(subj2day[subj]), subj, takename)\n",
    "marker_io = fio.MarkerDirIO(src_path(marker_dir))\n",
    "joint_io = fio.BVHDirIO(src_path(bvh_dir))\n",
    "img_reader = fio.ImgProjReader(cam_dict, imgdir_io, viddir_io)\n",
    "mkr_reader = fio.MarkerSkeletonProjReader(cam_dict, marker_io, joint_io, subj, takename)\n",
    "\n",
    "subjtake_cam[(subj, takename)] = cam_dict"
   ]
  },
  {
   "cell_type": "code",
   "execution_count": 13,
   "metadata": {},
   "outputs": [],
   "source": [
    "# Global\n",
    "imgid_cntr = 0"
   ]
  },
  {
   "cell_type": "code",
   "execution_count": 14,
   "metadata": {},
   "outputs": [],
   "source": [
    "def gen_img():\n",
    "    global imgid_cntr\n",
    "    for subj, record in time_io.subj_take_table.items():\n",
    "        for takename, _ in record.items(): \n",
    "            \n",
    "            cam_dict = fio.load_cam(cam_io.get_camparam_file(subj, takename))\n",
    "            imgdir_io = fio.ImgDirIO(src_path(subj2day[subj]), subj, takename)\n",
    "            viddir_io = fio.VideoDirIO(src_path(subj2day[subj]), subj, takename)\n",
    "            marker_io = fio.MarkerDirIO(src_path(marker_dir))\n",
    "            joint_io = fio.BVHDirIO(src_path(bvh_dir))\n",
    "            img_reader = fio.ImgProjReader(cam_dict, imgdir_io, viddir_io)\n",
    "            mkr_reader = fio.MarkerSkeletonProjReader(cam_dict, marker_io, joint_io, subj, takename)\n",
    "\n",
    "            # Take-specific\n",
    "            cam_last_test_time = {\"00\": 0.0, \"01\": 0.0, \"02\": 0.0, \"03\": 0.0, \"04\": 0.0}\n",
    "            cam_f_ind = {\"00\": 0, \"01\": 0, \"02\": 0, \"03\": 0, \"04\": 0}\n",
    "            cam_last_joint = {}\n",
    "\n",
    "            # Don't start blocklisted cameras in the beginning\n",
    "            for cam in cam_f_ind:\n",
    "                if cam_io.is_blocklisted(subj, takename, cam):\n",
    "                    cam_f_ind[cam] = None \n",
    "\n",
    "            while not all(v is None for v in cam_f_ind.values()):\n",
    "                for cam in [\"00\", \"01\", \"02\", \"03\", \"04\"]:\n",
    "                    cam_t = cam_f_ind[cam]\n",
    "                    if cam_t is not None and cam_t < img_reader.get_frame_num_for_cam(cam):\n",
    "                        cam_ts = img_reader.read_ts(cam_t, cam)\n",
    "                    # Termination Criteria\n",
    "                    if cam_t is None:\n",
    "                        continue\n",
    "                    elif cam_t >= img_reader.get_frame_num_for_cam(cam):\n",
    "                        cam_f_ind[cam] = None\n",
    "                    elif int(round(time_io.map_cam_timestamp_2mocap(subj, takename, cam, cam_ts))) >= mkr_reader.get_joint_frame_num():\n",
    "                        cam_f_ind[cam] = None\n",
    "\n",
    "                    # Begin loading\n",
    "                    else:\n",
    "                        mocap_t = int(round(time_io.map_cam_timestamp_2mocap(subj, takename, cam, cam_ts)))\n",
    "                        # Increment Right away\n",
    "                        cam_f_ind[cam] += 1\n",
    "\n",
    "                        if mocap_t >= 0:\n",
    "                            joints = mkr_reader.read_raw_joint(mocap_t)\n",
    "                            # Included clips\n",
    "                            if ~np.any(np.isnan(joints)):\n",
    "                                # ImageID\n",
    "                                imgid = imgid_cntr\n",
    "                                imgid_cntr += 1\n",
    "\n",
    "                                # Source File, Read File, Frame, Camera Timestamp\n",
    "                                if cam in [\"03\", \"04\"]:\n",
    "                                    src_file = viddir_io.cam_subj_take_file[cam][subj][takename]\n",
    "                                    read_file = None\n",
    "\n",
    "                                    frame, cam_ts = viddir_io.read_cam_frame_ts(cam, cam_t)\n",
    "                                else:\n",
    "                                    src_file, cam_ts = imgdir_io.get_imgfile_timestamp(cam)[cam_t]\n",
    "                                    read_file = src_file\n",
    "                                    frame = None\n",
    "                                # Mocap timestamp\n",
    "                                mocap_ts = time_io.map_cam_timestamp_2mocap(subj, takename, cam, cam_ts)\n",
    "                                # Session Date\n",
    "                                sess_date = subj2day[subj]\n",
    "                                # Camera Param files\n",
    "                                cam_param_f = \"{:}/{:}-{:}-{:}-stcams.pkl\".format(dst_cam_dir, subj, takename, cam)\n",
    "                                # Joints and Marker\n",
    "                                joints = np.ascontiguousarray(joints)\n",
    "                                markers = np.ascontiguousarray(mkr_reader.read_raw_skel(mocap_t))\n",
    "                                # Geometry name\n",
    "                                geo_name = \"_\".join(subj2camparam[subj].split(\".\")[0].split(\"_\")[:2])\n",
    "                                # Adaptive sampling\n",
    "                                if cam not in cam_last_joint:\n",
    "                                    cam_last_joint[cam] = joints\n",
    "                                    is_gpa1 = True\n",
    "                                else:\n",
    "                                    is_gpa1 = is_adaptive_sampled(cam_last_joint[cam], joints)\n",
    "                                    cam_last_joint[cam] = joints\n",
    "                                # Test Set\n",
    "                                if joint_io.subj_take_table[subj][takename][\"is_test\"]:\n",
    "                                    is_test = True\n",
    "                                else:\n",
    "                                    # Start a new test/train split\n",
    "                                    if mocap_ts - cam_last_test_time[cam] > 11 * 120:\n",
    "                                        is_test = True\n",
    "                                        cam_last_test_time[cam] = mocap_ts\n",
    "                                    elif mocap_ts - cam_last_test_time[cam] >= 1 * 120:\n",
    "                                        is_test = False\n",
    "                                    else:\n",
    "                                        is_test = True\n",
    "                                yield imgid, subj, takename, cam, src_file, read_file, frame, cam_ts, mocap_ts, sess_date, cam_param_f, markers, geo_name, is_gpa1, is_test"
   ]
  },
  {
   "cell_type": "markdown",
   "metadata": {},
   "source": [
    "# Dataflow"
   ]
  },
  {
   "cell_type": "code",
   "execution_count": 15,
   "metadata": {},
   "outputs": [],
   "source": [
    "from tensorpack import *\n",
    "from tensorpack.utils.utils import get_tqdm\n",
    "from tensorpack.utils import logger\n",
    "import msgpack\n",
    "import msgpack_numpy\n",
    "import lmdb\n",
    "msgpack_numpy.patch()"
   ]
  },
  {
   "cell_type": "code",
   "execution_count": 16,
   "metadata": {},
   "outputs": [],
   "source": [
    "def process_dp(row):\n",
    "    imgid, subj, takename, cam, src_file, read_file, frame, cam_ts, mocap_ts, sess_date, cam_param_f, markers, geo_name, is_gpa1, is_test = row\n",
    "    if frame is None:\n",
    "        img = subjtake_cam[(subj, takename)][cam].undistort_img(fio.imread_from_lz4(read_file))\n",
    "    else:\n",
    "        img = subjtake_cam[(subj, takename)][cam].undistort_img(frame)\n",
    "    \n",
    "    img_buf = cv2.imencode(\".png\", img[:, :, ::-1], (cv2.IMWRITE_PNG_COMPRESSION, 5))[1].tobytes()\n",
    "    \n",
    "    dst_file = \"{:}/{:0>10}.png\".format(subj, imgid)\n",
    "    \n",
    "    meta_tuple = imgid, subj, takename, cam, src_file, dst_file, cam_ts, mocap_ts, sess_date, cam_param_f, markers, geo_name, is_gpa1, is_test\n",
    "    meta_bytes = msgpack.dumps(meta_tuple, use_bin_type=True)\n",
    "    \n",
    "    return imgid, subj, takename, cam, dst_file, img_buf, meta_bytes"
   ]
  },
  {
   "cell_type": "code",
   "execution_count": 18,
   "metadata": {},
   "outputs": [],
   "source": [
    "df = dataflow.DataFromGenerator(gen_img())\n",
    "mapped_df = dataflow.MultiProcessMapDataZMQ(df, 10, process_dp, strict=True)"
   ]
  },
  {
   "cell_type": "code",
   "execution_count": 19,
   "metadata": {},
   "outputs": [],
   "source": [
    "def save_img(dst_file, img_buf):\n",
    "    with open(dst_path(dst_file), \"wb\") as f:\n",
    "        f.write(img_buf)"
   ]
  },
  {
   "cell_type": "code",
   "execution_count": 20,
   "metadata": {},
   "outputs": [],
   "source": [
    "def dump_dataflow_to_lmdb_with_img(df, lmdb_path, write_frequency=500):\n",
    "    \"\"\"\n",
    "    Dump a Dataflow to a lmdb database, where the keys are indices and values\n",
    "    are serialized datapoints.\n",
    "    The output database can be read directly by\n",
    "    :class:`tensorpack.dataflow.LMDBDataPoint`.\n",
    "    Args:\n",
    "        df (DataFlow): the DataFlow to dump.\n",
    "        lmdb_path (str): output path. Either a directory or a mdb file.\n",
    "        write_frequency (int): the frequency to write back data to disk.\n",
    "    \"\"\"\n",
    "    \n",
    "    assert isinstance(df, DataFlow), type(df)\n",
    "    isdir = os.path.isdir(lmdb_path)\n",
    "    if isdir:\n",
    "        assert not os.path.isfile(os.path.join(lmdb_path, 'data.mdb')), \"LMDB file exists!\"\n",
    "    else:\n",
    "        assert not os.path.isfile(lmdb_path), \"LMDB file exists!\"\n",
    "    df.reset_state()\n",
    "    db = lmdb.open(lmdb_path, subdir=isdir, map_size=1099511627776 * 2, readonly=False,\n",
    "                   meminit=False, map_async=True)  # need sync() at the end\n",
    "    \n",
    "    try:\n",
    "        sz = df.size()\n",
    "    except NotImplementedError:\n",
    "        sz = 0\n",
    "    with get_tqdm(total=sz) as pbar:\n",
    "        idx = -1\n",
    "\n",
    "        # lmdb transaction is not exception-safe!\n",
    "        # although it has a contextmanager interface\n",
    "        txn = db.begin(write=True)\n",
    "        max_id = 0\n",
    "\n",
    "        for imgid, subj, takename, cam, dst_file, img_buf, meta_bytes in iter(df):\n",
    "            save_img(dst_file, img_buf)\n",
    "            txn.put(u'{:0>10}'.format(imgid).encode('ascii'), meta_bytes)\n",
    "            if imgid > max_id: max_id = imgid\n",
    "            pbar.update()\n",
    "            if (imgid + 1) % write_frequency == 0:\n",
    "                txn.commit()\n",
    "                txn = db.begin(write=True)\n",
    "        txn.commit()\n",
    "\n",
    "        logger.info(\"Flushing database ...\")\n",
    "        db.sync()\n",
    "    db.close()\n",
    "    return max_id"
   ]
  },
  {
   "cell_type": "code",
   "execution_count": 21,
   "metadata": {},
   "outputs": [
    {
     "name": "stdout",
     "output_type": "stream",
     "text": [
      "\u001b[32m[1101 22:48:21 @argtools.py:152]\u001b[0m \u001b[5m\u001b[31mWRN\u001b[0m Install python-prctl so that processes can be cleaned with guarantee.\n"
     ]
    },
    {
     "name": "stderr",
     "output_type": "stream",
     "text": [
      "234530it [6:16:53,  9.24it/s]IOPub message rate exceeded.\n",
      "The notebook server will temporarily stop sending output\n",
      "to the client in order to avoid crashing it.\n",
      "To change this limit, set the config variable\n",
      "`--NotebookApp.iopub_msg_rate_limit`.\n",
      "\n",
      "Current values:\n",
      "NotebookApp.iopub_msg_rate_limit=1000.0 (msgs/sec)\n",
      "NotebookApp.rate_limit_window=3.0 (secs)\n",
      "\n",
      "267647it [7:10:01, 11.06it/s]IOPub message rate exceeded.\n",
      "The notebook server will temporarily stop sending output\n",
      "to the client in order to avoid crashing it.\n",
      "To change this limit, set the config variable\n",
      "`--NotebookApp.iopub_msg_rate_limit`.\n",
      "\n",
      "Current values:\n",
      "NotebookApp.iopub_msg_rate_limit=1000.0 (msgs/sec)\n",
      "NotebookApp.rate_limit_window=3.0 (secs)\n",
      "\n",
      "300170it [8:02:51, 10.37it/s]IOPub message rate exceeded.\n",
      "The notebook server will temporarily stop sending output\n",
      "to the client in order to avoid crashing it.\n",
      "To change this limit, set the config variable\n",
      "`--NotebookApp.iopub_msg_rate_limit`.\n",
      "\n",
      "Current values:\n",
      "NotebookApp.iopub_msg_rate_limit=1000.0 (msgs/sec)\n",
      "NotebookApp.rate_limit_window=3.0 (secs)\n",
      "\n",
      "719563it [19:24:53,  2.82it/s]"
     ]
    },
    {
     "name": "stdout",
     "output_type": "stream",
     "text": [
      "\u001b[32m[1102 18:13:15 @parallel_map.py:53]\u001b[0m \u001b[4m\u001b[5m\u001b[31mERR\u001b[0m [MultiProcessMapDataZMQ] buffer_size cannot be larger than the size of the DataFlow!\n",
      "\u001b[32m[1102 18:13:16 @<ipython-input-20-fc3912b34b7a>:45]\u001b[0m Flushing database ...\n"
     ]
    },
    {
     "name": "stderr",
     "output_type": "stream",
     "text": [
      "719564it [19:24:54, 10.30it/s]\n"
     ]
    },
    {
     "data": {
      "text/plain": [
       "719564"
      ]
     },
     "execution_count": 21,
     "metadata": {},
     "output_type": "execute_result"
    }
   ],
   "source": [
    "dump_dataflow_to_lmdb_with_img(mapped_df, dst_path(\"main_meta.mdb\"), write_frequency=2000)"
   ]
  },
  {
   "cell_type": "markdown",
   "metadata": {},
   "source": [
    "# Projected Person Size"
   ]
  },
  {
   "cell_type": "code",
   "execution_count": null,
   "metadata": {},
   "outputs": [],
   "source": []
  },
  {
   "cell_type": "code",
   "execution_count": 1,
   "metadata": {},
   "outputs": [],
   "source": [
    "for subj, record in time_io.subj_take_table.items():\n",
    "    for takename, _ in record.items(): \n",
    "\n",
    "        cam_dict = fio.load_cam(cam_io.get_camparam_file(subj, takename))\n",
    "        imgdir_io = fio.ImgDirIO(src_path(subj2day[subj]), subj, takename)\n",
    "        viddir_io = fio.VideoDirIO(src_path(subj2day[subj]), subj, takename)\n",
    "        marker_io = fio.MarkerDirIO(src_path(marker_dir))\n",
    "        joint_io = fio.BVHDirIO(src_path(bvh_dir))\n",
    "        img_reader = fio.ImgProjReader(cam_dict, imgdir_io, viddir_io)\n",
    "        mkr_reader = fio.MarkerSkeletonProjReader(cam_dict, marker_io, joint_io, subj, takename)\n",
    "\n",
    "\n"
   ]
  },
  {
   "cell_type": "code",
   "execution_count": 17,
   "metadata": {},
   "outputs": [],
   "source": []
  },
  {
   "cell_type": "code",
   "execution_count": null,
   "metadata": {},
   "outputs": [],
   "source": []
  }
 ],
 "metadata": {
  "kernelspec": {
   "display_name": "Python 3",
   "language": "python",
   "name": "python3"
  },
  "language_info": {
   "codemirror_mode": {
    "name": "ipython",
    "version": 3
   },
   "file_extension": ".py",
   "mimetype": "text/x-python",
   "name": "python",
   "nbconvert_exporter": "python",
   "pygments_lexer": "ipython3",
   "version": "3.5.2"
  }
 },
 "nbformat": 4,
 "nbformat_minor": 2
}
