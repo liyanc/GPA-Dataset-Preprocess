{
 "cells": [
  {
   "cell_type": "code",
   "execution_count": 1,
   "metadata": {},
   "outputs": [],
   "source": [
    "%matplotlib inline\n",
    "import os, pickle, glob\n",
    "import cv2\n",
    "import matplotlib\n",
    "import numpy as np\n",
    "import FileIO as fio\n",
    "import Camera as camsolve\n",
    "from matplotlib import pyplot as plt\n",
    "from matplotlib import patches as ptch\n",
    "plt.style.use(\"ggplot\")"
   ]
  },
  {
   "cell_type": "code",
   "execution_count": 2,
   "metadata": {},
   "outputs": [],
   "source": [
    "from collections import defaultdict"
   ]
  },
  {
   "cell_type": "code",
   "execution_count": 3,
   "metadata": {},
   "outputs": [],
   "source": [
    "root_path = \"/home/liyanc/Desktop/raid/scratch2/pose/processing/staging/20180831/\""
   ]
  },
  {
   "cell_type": "code",
   "execution_count": 4,
   "metadata": {},
   "outputs": [],
   "source": [
    "subj = \"liyan\"\n",
    "take = \"action_01\""
   ]
  },
  {
   "cell_type": "code",
   "execution_count": 5,
   "metadata": {},
   "outputs": [],
   "source": [
    "ts_file = \"{:}/{:}_{:}_timestamp.txt\".format(root_path, subj, take)\n",
    "img_dir = \"{:}/{:}_{:}\".format(root_path, subj, take)\n",
    "img_list = glob.glob(\"{:}/*.bmp.lz4\".format(img_dir))"
   ]
  },
  {
   "cell_type": "code",
   "execution_count": 10,
   "metadata": {},
   "outputs": [],
   "source": [
    "global_cam_ts = {\"00\": [], \"01\": [], \"02\": []}\n",
    "local_cam_ts = {\"00\": [], \"01\": [], \"02\": []}\n",
    "global_ts_to_cam_ts = defaultdict(dict)\n",
    "imgfile_timestamp = {\"00\": [], \"01\": [], \"02\": []}"
   ]
  },
  {
   "cell_type": "code",
   "execution_count": 11,
   "metadata": {},
   "outputs": [],
   "source": [
    "with open(ts_file, \"r\") as f:\n",
    "    for line in f:\n",
    "        cam, _, glob_ts, color_ts, depth_ts = line.strip().split()\n",
    "        global_cam_ts[cam].append(int(glob_ts))\n",
    "        local_cam_ts[cam].append(float(color_ts) * 1000.0)\n",
    "        global_ts_to_cam_ts[int(glob_ts)][cam] = float(color_ts) * 1000.0"
   ]
  },
  {
   "cell_type": "code",
   "execution_count": 12,
   "metadata": {},
   "outputs": [],
   "source": [
    "for imgf in img_list:\n",
    "    cam, glob_ts, imgid = os.path.basename(imgf).split(\".\")[0].split(\"-\")\n",
    "    imgfile_timestamp[cam].append((imgf, global_ts_to_cam_ts[int(glob_ts)][cam]))"
   ]
  },
  {
   "cell_type": "code",
   "execution_count": 13,
   "metadata": {},
   "outputs": [],
   "source": [
    "for cam in imgfile_timestamp:\n",
    "    imgfile_timestamp[cam].sort(key=lambda x: x[1])"
   ]
  },
  {
   "cell_type": "code",
   "execution_count": 14,
   "metadata": {},
   "outputs": [
    {
     "data": {
      "text/plain": [
       "[('/home/liyanc/Desktop/raid/scratch2/pose/processing/staging/20180831//liyan_action_01/00-000006384-000000001.bmp.lz4',\n",
       "  1350604.126),\n",
       " ('/home/liyanc/Desktop/raid/scratch2/pose/processing/staging/20180831//liyan_action_01/00-000006421-000000006.bmp.lz4',\n",
       "  1350630.737),\n",
       " ('/home/liyanc/Desktop/raid/scratch2/pose/processing/staging/20180831//liyan_action_01/00-000006455-000000009.bmp.lz4',\n",
       "  1350657.471),\n",
       " ('/home/liyanc/Desktop/raid/scratch2/pose/processing/staging/20180831//liyan_action_01/00-000006485-000000011.bmp.lz4',\n",
       "  1350684.204),\n",
       " ('/home/liyanc/Desktop/raid/scratch2/pose/processing/staging/20180831//liyan_action_01/00-000006515-000000014.bmp.lz4',\n",
       "  1350710.815),\n",
       " ('/home/liyanc/Desktop/raid/scratch2/pose/processing/staging/20180831//liyan_action_01/00-000006546-000000016.bmp.lz4',\n",
       "  1350737.4270000001),\n",
       " ('/home/liyanc/Desktop/raid/scratch2/pose/processing/staging/20180831//liyan_action_01/00-000006585-000000020.bmp.lz4',\n",
       "  1350764.16),\n",
       " ('/home/liyanc/Desktop/raid/scratch2/pose/processing/staging/20180831//liyan_action_01/00-000006616-000000023.bmp.lz4',\n",
       "  1350790.771),\n",
       " ('/home/liyanc/Desktop/raid/scratch2/pose/processing/staging/20180831//liyan_action_01/00-000006652-000000027.bmp.lz4',\n",
       "  1350817.505),\n",
       " ('/home/liyanc/Desktop/raid/scratch2/pose/processing/staging/20180831//liyan_action_01/00-000006685-000000030.bmp.lz4',\n",
       "  1350844.116)]"
      ]
     },
     "execution_count": 14,
     "metadata": {},
     "output_type": "execute_result"
    }
   ],
   "source": []
  },
  {
   "cell_type": "code",
   "execution_count": null,
   "metadata": {},
   "outputs": [],
   "source": []
  },
  {
   "cell_type": "code",
   "execution_count": null,
   "metadata": {},
   "outputs": [],
   "source": []
  },
  {
   "cell_type": "code",
   "execution_count": 41,
   "metadata": {},
   "outputs": [],
   "source": [
    "glob_ts_int = {\"00\": [], \"01\": [], \"02\": []}\n",
    "local_ts_int = {\"00\": [], \"01\": [], \"02\": []}\n",
    "for k in global_cam_ts:\n",
    "    global_cam_ts[k].sort()\n",
    "    for ind in range(len(global_cam_ts[k]) - 1):\n",
    "        glob_ts_int[k].append(global_cam_ts[k][ind + 1] - global_cam_ts[k][ind])\n",
    "    glob_ts_int[k] = np.array(glob_ts_int[k])\n",
    "    \n",
    "for k in local_cam_ts:\n",
    "    local_cam_ts[k].sort()\n",
    "    for ind in range(len(local_cam_ts[k]) - 1):\n",
    "        local_ts_int[k].append(local_cam_ts[k][ind + 1] - local_cam_ts[k][ind])\n",
    "    local_ts_int[k] = np.array(local_ts_int[k])"
   ]
  },
  {
   "cell_type": "code",
   "execution_count": 45,
   "metadata": {},
   "outputs": [
    {
     "data": {
      "image/png": "[encoded data removed]",
      "text/plain": [
       "<Figure size 864x720 with 3 Axes>"
      ]
     },
     "metadata": {},
     "output_type": "display_data"
    }
   ],
   "source": [
    "fig = plt.figure(figsize=(12, 10))\n",
    "for cam, plotid in [(\"00\", 1), (\"01\", 2), (\"02\", 3)]:\n",
    "    ax = plt.subplot(2, 2, plotid)\n",
    "    ax.hist(glob_ts_int[cam], bins=80, alpha=0.75, label=\"global timestamp\")\n",
    "    ax.hist(local_ts_int[cam], bins=80, alpha=0.75, label=\"internal timestamp\")\n",
    "    ax.legend()\n",
    "    ax.set_title(\"Camera {:}\".format(cam))\n",
    "fig.suptitle(\"Frame interval(ms) Histogram\")\n",
    "plt.savefig(\"frame_interval.png\")"
   ]
  },
  {
   "cell_type": "code",
   "execution_count": 46,
   "metadata": {},
   "outputs": [
    {
     "data": {
      "text/plain": [
       "26.666630802603024"
      ]
     },
     "execution_count": 46,
     "metadata": {},
     "output_type": "execute_result"
    }
   ],
   "source": [
    "np.mean(local_ts_int[cam][local_ts_int[cam] <  30.0])"
   ]
  },
  {
   "cell_type": "code",
   "execution_count": null,
   "metadata": {},
   "outputs": [],
   "source": []
  }
 ],
 "metadata": {
  "kernelspec": {
   "display_name": "Python 3",
   "language": "python",
   "name": "python3"
  },
  "language_info": {
   "codemirror_mode": {
    "name": "ipython",
    "version": 3
   },
   "file_extension": ".py",
   "mimetype": "text/x-python",
   "name": "python",
   "nbconvert_exporter": "python",
   "pygments_lexer": "ipython3",
   "version": "3.5.2"
  }
 },
 "nbformat": 4,
 "nbformat_minor": 2
}
